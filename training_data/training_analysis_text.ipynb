{
 "cells": [
  {
   "cell_type": "code",
   "execution_count": 32,
   "id": "b7c56651-6113-49a7-8342-8f2613252cc1",
   "metadata": {},
   "outputs": [],
   "source": [
    "import os \n",
    "import sys \n",
    "import time \n",
    "import numpy as np\n",
    "import json\n",
    "import tpch_training as tp "
   ]
  },
  {
   "cell_type": "code",
   "execution_count": 33,
   "id": "b588599c-a1c6-47df-99a4-c0e784ffaba0",
   "metadata": {},
   "outputs": [
    {
     "name": "stdout",
     "output_type": "stream",
     "text": [
      "880\n",
      "['./training_results/sf10_det_test_log_det.txt', './training_results/sf10_det_test_logging.txt', './training_results/sf10_det_main_det.txt']\n"
     ]
    }
   ],
   "source": [
    "DET_PARAMS_FNAME = \"./training_params/detparams_9.json\"\n",
    "DET_PARAMS = None\n",
    "with open(DET_PARAMS_FNAME, 'rb') as f:\n",
    "    DET_PARAMS = json.load(f)\n",
    "    print(len(DET_PARAMS))\n",
    "\n",
    "training_fnames = ['./training_results/'+x for x in os.listdir('./training_results') if 'txt' in x and 'det' in x]\n",
    "len(training_fnames)\n",
    "print(training_fnames)\n",
    "\n",
    "def get_spark_params(result_dict):\n",
    "    param_vals = []\n",
    "    for param in tp.SPARK_PARAMETERS:\n",
    "        for p in result_dict['params']:\n",
    "            if p['name'] == param['name']:\n",
    "                param_vals.append(p['cur_value'])\n",
    "    return tuple(param_vals)"
   ]
  },
  {
   "cell_type": "code",
   "execution_count": 34,
   "id": "7e25b516-4e8b-400d-acc3-d212e28798df",
   "metadata": {},
   "outputs": [
    {
     "data": {
      "text/plain": [
       "(1,\n",
       " '1g',\n",
       " 2,\n",
       " 1,\n",
       " '1g',\n",
       " '48m',\n",
       " 'true',\n",
       " 'true',\n",
       " '32k',\n",
       " '4m',\n",
       " 'true',\n",
       " 0.6,\n",
       " '128',\n",
       " 'false',\n",
       " 'lz4',\n",
       " 1,\n",
       " 200,\n",
       " 200,\n",
       " 0.5)"
      ]
     },
     "execution_count": 34,
     "metadata": {},
     "output_type": "execute_result"
    }
   ],
   "source": [
    "defaults = tuple(a['default_value'] for a in tp.SPARK_PARAMETERS)\n",
    "defaults"
   ]
  },
  {
   "cell_type": "code",
   "execution_count": 35,
   "id": "7fbd0d60-624b-498c-8598-d51cc9fad737",
   "metadata": {},
   "outputs": [
    {
     "name": "stdout",
     "output_type": "stream",
     "text": [
      "279\n",
      "{'./training_results/sf10_det_test_log_det.txt': 252, './training_results/sf10_det_test_logging.txt': 1, './training_results/sf10_det_main_det.txt': 26}\n",
      "{'./training_results/sf10_det_test_log_det.txt': 252, './training_results/sf10_det_test_logging.txt': 1, './training_results/sf10_det_main_det.txt': 26}\n"
     ]
    }
   ],
   "source": [
    "fname_numdata = {}\n",
    "fname_numdet = {}\n",
    "deterministic_data = {}\n",
    "\n",
    "for fname in training_fnames:\n",
    "    with open(fname,'r') as file:\n",
    "        lines = file.readlines()\n",
    "        fname_numdata[fname] = len(lines)\n",
    "        deterministic_data[fname] = {}\n",
    "        \n",
    "        for k in DET_PARAMS:\n",
    "            if int(k) < len(lines):\n",
    "                deterministic_data[fname][k] = eval(lines[int(k)])\n",
    "        fname_numdet[fname] = len(deterministic_data[fname])\n",
    "print(sum(fname_numdata.values()))\n",
    "print(fname_numdata)\n",
    "print(fname_numdet)"
   ]
  },
  {
   "cell_type": "code",
   "execution_count": 36,
   "id": "42544271-132c-4399-985a-f7dd53979d05",
   "metadata": {},
   "outputs": [
    {
     "name": "stdout",
     "output_type": "stream",
     "text": [
      "./training_results/sf10_det_test_log_det.txt \n",
      " 1.310380458831787 1.241459608078003 1.7630729675292969 1.0664875507354736\n",
      "./training_results/sf10_det_test_logging.txt \n",
      " 5.311885833740234 5.311885833740234 5.311885833740234 5.311885833740234\n",
      "./training_results/sf10_det_main_det.txt \n",
      " 69.89695191383362 82.11344361305237 85.243985414505 65.24238419532776\n"
     ]
    }
   ],
   "source": [
    "det_params = {}\n",
    "det_rt = {}\n",
    "for fname, data in deterministic_data.items():\n",
    "    det_params[fname] = []\n",
    "    det_rt[fname] = []\n",
    "    for result_dict in data.values():\n",
    "        det_params[fname].append(get_spark_params(result_dict))\n",
    "        if result_dict['runtimes']:\n",
    "            det_rt[fname].append(result_dict['runtimes']['total'])\n",
    "prev_fname = fname\n",
    "for fname in det_params:\n",
    "    assert det_params[fname][0] == defaults, f'{det_params[fname][0]} !=\\n{defaults}'\n",
    "    #assert str(det_params[fname]) == str(det_params[prev_fname]), fname + \" \" + prev_fname\n",
    "    print(fname, '\\n',det_rt[fname][0], det_rt[fname][-1], max(det_rt[fname]), min(det_rt[fname]))"
   ]
  },
  {
   "cell_type": "code",
   "execution_count": 37,
   "id": "0b409616-6e21-4589-82b9-e9e170a5b239",
   "metadata": {},
   "outputs": [],
   "source": [
    "# how many different param combos have we tried?\n",
    "fname_num_params = {}\n",
    "fname_valid = {}\n",
    "for fname in training_fnames:\n",
    "    with open(fname,'r') as file:\n",
    "        lines = file.readlines()\n",
    "        fname_num_params[fname] = set()\n",
    "        fname_valid[fname] = 0\n",
    "        for result_dict in lines:\n",
    "            result_dict = eval(result_dict)\n",
    "            fname_num_params[fname].add(get_spark_params(result_dict))\n",
    "            fname_valid[fname] += 1 if result_dict['runtimes'] else 0\n"
   ]
  },
  {
   "cell_type": "code",
   "execution_count": 38,
   "id": "47e55f03-f255-4833-84c9-c0f3f0ffd27e",
   "metadata": {},
   "outputs": [
    {
     "name": "stdout",
     "output_type": "stream",
     "text": [
      "30\n",
      "/sf10_det_test_log_det.txt \n",
      "num unique params 26 total runs 252 valid runs 252\n",
      "/sf10_det_test_logging.txt \n",
      "num unique params 1 total runs 1 valid runs 1\n",
      "/sf10_det_main_det.txt \n",
      "num unique params 3 total runs 26 valid runs 26\n"
     ]
    }
   ],
   "source": [
    "print(sum([len(x) for x in fname_num_params.values()]))\n",
    "for fname, vals in fname_num_params.items():\n",
    "    print(fname[18:60], '\\nnum unique params', len(vals), 'total runs',fname_numdata[fname] , 'valid runs', fname_valid[fname])"
   ]
  },
  {
   "cell_type": "code",
   "execution_count": 39,
   "id": "40919c75-26c1-4eb3-9939-47d8f37a0443",
   "metadata": {},
   "outputs": [],
   "source": [
    "#det_rt"
   ]
  },
  {
   "cell_type": "code",
   "execution_count": 40,
   "id": "546477e5-b61e-4d51-959c-9415f624929d",
   "metadata": {},
   "outputs": [
    {
     "name": "stdout",
     "output_type": "stream",
     "text": [
      "overall runs avg  1.3801 median 1.375 range  0.69659 std  0.1062\n",
      "overall runs avg  5.31189 median 5.31189 range  0.0 std  0.0\n",
      "overall runs avg  73.79781 median 72.71774 range  20.0016 std  6.77929\n"
     ]
    }
   ],
   "source": [
    "for fname in det_rt:\n",
    "    all_runs = []\n",
    "    for run in det_rt[fname]:\n",
    "        all_runs.append(run)\n",
    "        #print('avg ', round(np.average(run), 5), 'median', round(np.median(run), 5), 'range ', round(max(run)-min(run),5), 'std ', round(np.std(run), 5))\n",
    "    print('overall runs avg ', round(np.average(all_runs), 5), 'median', round(np.median(all_runs), 5), 'range ', round(max(all_runs)-min(all_runs),5), 'std ', round(np.std(all_runs), 5))\n",
    "              \n",
    "        "
   ]
  },
  {
   "cell_type": "code",
   "execution_count": 42,
   "id": "a26a7b1f-36cd-43c1-be87-05c10fb12385",
   "metadata": {},
   "outputs": [
    {
     "name": "stdout",
     "output_type": "stream",
     "text": [
      "['sf10_det_test_log_det.txt', '.ipynb_checkpoints', 'sf10_rand_test_logging_rand.txt', 'sf10_det_test_logging.txt', 'sf10_det_main_det.txt']\n",
      "['./training_results/sf10_det_test_log_det.txt', './training_results/sf10_det_test_logging.txt', './training_results/sf10_det_main_det.txt']\n",
      "deftotal [1.310380458831787, 1.3100864887237549, 1.323552131652832, 1.4297122955322266, 1.307642936706543, 1.4427781105041504, 1.3065600395202637, 1.501037359237671, 1.5401873588562012, 1.2811477184295654]\n",
      "default, min: 1.28115, max: 1.54019, median 1.31697, avg: 1.37531  default: (1.28115, 1.54019)\n",
      "sf10_det_test_log_det\n"
     ]
    },
    {
     "data": {
      "image/png": "[encoded data removed]",
      "text/plain": [
       "<Figure size 720x360 with 1 Axes>"
      ]
     },
     "metadata": {
      "needs_background": "light"
     },
     "output_type": "display_data"
    },
    {
     "data": {
      "image/png": "[encoded data removed]",
      "text/plain": [
       "<Figure size 720x360 with 1 Axes>"
      ]
     },
     "metadata": {
      "needs_background": "light"
     },
     "output_type": "display_data"
    },
    {
     "name": "stdout",
     "output_type": "stream",
     "text": [
      "deftotal [5.311885833740234]\n",
      "default, min: 5.31189, max: 5.31189, median 5.31189, avg: 5.31189  default: (5.31189, 5.31189)\n",
      "sf10_det_test_logging\n"
     ]
    },
    {
     "data": {
      "image/png": "[encoded data removed]",
      "text/plain": [
       "<Figure size 720x360 with 1 Axes>"
      ]
     },
     "metadata": {
      "needs_background": "light"
     },
     "output_type": "display_data"
    },
    {
     "data": {
      "image/png": "[encoded data removed]",
      "text/plain": [
       "<Figure size 720x360 with 1 Axes>"
      ]
     },
     "metadata": {
      "needs_background": "light"
     },
     "output_type": "display_data"
    },
    {
     "name": "stdout",
     "output_type": "stream",
     "text": [
      "deftotal [69.89695191383362, 76.55949521064758, 67.18906092643738, 83.25056529045105, 68.55104565620422, 66.98108506202698, 82.53521203994751, 65.68294048309326, 79.35534143447876, 67.5759801864624]\n",
      "default, min: 65.68294, max: 83.25057, median 69.224, avg: 72.75777  default: (65.68294, 83.25057)\n",
      "sf10_det_main_det\n"
     ]
    },
    {
     "data": {
      "image/png": "[encoded data removed]",
      "text/plain": [
       "<Figure size 720x360 with 1 Axes>"
      ]
     },
     "metadata": {
      "needs_background": "light"
     },
     "output_type": "display_data"
    },
    {
     "data": {
      "image/png": "[encoded data removed]",
      "text/plain": [
       "<Figure size 720x360 with 1 Axes>"
      ]
     },
     "metadata": {
      "needs_background": "light"
     },
     "output_type": "display_data"
    }
   ],
   "source": [
    "#training_fnames = ['./training_results/'+x for x in os.listdir('./training_results') if 'json' in x and 'test_clear_ports' in x]\n",
    "#direc = '../../../../nobackup1/hoped/spark-autotuner/training_data/training_results'\n",
    "#training_fnames = [f'{direc}/{x}'for x in os.listdir(direc) if 'json' in x and 'nobackup_deterministic_raw_runtimes' in x]\n",
    "direc = './training_results'\n",
    "print(os.listdir(direc))\n",
    "training_fnames = [f'{direc}/{x}'for x in os.listdir(direc) if 'txt' in x and 'det' in x]\n",
    "#direc = '../../../../nobackup1/hoped/spark-autotuner/training_data/training_results'\n",
    "\n",
    "len(training_fnames)\n",
    "print(training_fnames)\n",
    "for FNAME in  training_fnames:\n",
    "    import json\n",
    "    import os\n",
    "    import matplotlib.pyplot as plt\n",
    "    import numpy as np\n",
    "    import pandas as pd\n",
    "    \n",
    "    with open(FNAME,'r') as file:\n",
    "        try:\n",
    "            file_data = file.readlines()\n",
    "        except Exception as e:\n",
    "            print(FNAME, \"load error\")\n",
    "            print(e)\n",
    "            continue\n",
    "\n",
    "    class Parameter:\n",
    "        def __init__(self, name):\n",
    "            self.name = name\n",
    "            self.val_to_results = {}\n",
    "\n",
    "        def add(self, param_val, results):\n",
    "            self.val_to_results[param_val] = results\n",
    "\n",
    "        def get_total(self, param_val):\n",
    "            if param_val in self.val_to_results:\n",
    "                return self.val_to_results[param_val][\"total\"]\n",
    "\n",
    "        def get_param_vals(self):\n",
    "            return set(self.val_to_results.keys())\n",
    "\n",
    "    param_name_to_param_obj = {}\n",
    "\n",
    "    def populate_params():\n",
    "        #analyze one file\n",
    "\n",
    "        with open(FNAME, \"r\") as file:\n",
    "            for line in file:\n",
    "                d = eval(line)\n",
    "       \n",
    "                params = [p for p in d[\"params\"] if p['spark_param']]\n",
    "                runtimes = d[\"runtimes\"]\n",
    "                if len(runtimes) == 0:\n",
    "                    continue\n",
    "\n",
    "                all_default = True\n",
    "                for p in params:\n",
    "                    if str(p['cur_value']) != str(p['default_value']):\n",
    "                        varying_param = p['name']\n",
    "                        all_default = False\n",
    "                        break\n",
    "                if all_default:\n",
    "                    if 'default' not in param_name_to_param_obj:\n",
    "                        param_name_to_param_obj[\"default\"] = Parameter('default')\n",
    "\n",
    "                    obj = param_name_to_param_obj[\"default\"]\n",
    "                    obj.add(len(obj.val_to_results), runtimes)\n",
    "                    continue\n",
    "\n",
    "                if varying_param not in param_name_to_param_obj:\n",
    "                    param_name_to_param_obj[varying_param] = Parameter(varying_param)\n",
    "                obj = param_name_to_param_obj[varying_param]\n",
    "                assert \"total\" in runtimes\n",
    "                obj.add(p['cur_value'], runtimes)\n",
    "\n",
    "    def analyze_results():\n",
    "        populate_params()\n",
    "        default = param_name_to_param_obj[\"default\"]\n",
    "        default_total = [default.get_total(k) for k in default.get_param_vals()]\n",
    "        print('deftotal',default_total)\n",
    "        mins = []\n",
    "        names = []\n",
    "        diffs = []\n",
    "        stds = []\n",
    "        for p in param_name_to_param_obj:\n",
    "            min_runtime = float(\"inf\")\n",
    "            max_runtime = -float(\"inf\")\n",
    "            times = []\n",
    "            if p != 'default':\n",
    "                obj = param_name_to_param_obj[p]\n",
    "                for k in obj.get_param_vals():\n",
    "                    total_time = obj.get_total(k)\n",
    "                    if type(total_time) == list:\n",
    "                        times.extend(total_time)\n",
    "                        min_runtime = min(min_runtime, min(total_time))\n",
    "                        max_runtime = max(max_runtime, max(total_time))\n",
    "                    else:\n",
    "                        times.append(total_time)\n",
    "                        min_runtime = min(min_runtime, total_time)\n",
    "                        max_runtime = max(max_runtime, total_time)\n",
    "                if min_runtime == max_runtime:\n",
    "                    max_runtime += .01\n",
    "\n",
    "\n",
    "            else:\n",
    "                times.extend(default_total)\n",
    "                min_runtime = min(default_total)\n",
    "                max_runtime = max(default_total)\n",
    "            stds.append(np.std(times))\n",
    "            if p == 'default':\n",
    "                print(f\"{p}, min: {round(min_runtime,5)}, max: {round(max_runtime,5)}, median {round(np.median(times),5)}, avg: {round(np.average(times),5)}  default: {round(min(default_total),5), round(max(default_total),5)}\")\n",
    "            mins.append(min_runtime)\n",
    "            diffs.append(max_runtime - min_runtime)\n",
    "            names.append(p)\n",
    "\n",
    "        #save total time std to csv\n",
    "        df = pd.DataFrame(list(zip(names, stds)),\n",
    "        columns =['name', 'standard_dev_total_times'])\n",
    "        df.to_csv(\"./training_sensitivity/all_runtime_stds.csv\", mode='w')\n",
    "\n",
    "        #plot std\n",
    "        fig = plt.figure(figsize = (10, 5))\n",
    "        plt.xticks(rotation=90)\n",
    "        plt.bar(names, stds, bottom=[0]*len(names), width=0.2)\n",
    "        plt.title(\"Standard deviation of total query times for each parameter\")\n",
    "        plt.xlabel(\"Parameter\")\n",
    "        plt.ylabel(\"Standard deviation of times\")\n",
    "        name = FNAME.split(\"/\")[-1][:-4]\n",
    "        print(name)\n",
    "        plt.savefig(f\"./training_sensitivity/all_runtime_stds{name}.jpg\", bbox_inches=\"tight\")\n",
    "        plt.show()\n",
    "\n",
    "        #plot min/max times for each parameter\n",
    "        fig = plt.figure(figsize = (10, 5))\n",
    "        plt.xticks(rotation=90)\n",
    "        plt.bar(names, diffs, bottom=mins, width=0.2)\n",
    "        plt.title(\"Range of total query times for each parameter\")\n",
    "        plt.xlabel(\"Parameter\")\n",
    "        plt.ylabel(\"Range of times\")\n",
    "        plt.savefig(f\"./training_sensitivity/all_runtime_ranges{name}.jpg\", bbox_inches=\"tight\")\n",
    "        plt.show()\n",
    "\n",
    "    analyze_results()"
   ]
  },
  {
   "cell_type": "code",
   "execution_count": null,
   "id": "777a9c3f-e628-4fc1-a01d-40648ca2e1cf",
   "metadata": {},
   "outputs": [],
   "source": []
  },
  {
   "cell_type": "code",
   "execution_count": 45,
   "id": "d760218e-a112-466a-948c-102e346072f3",
   "metadata": {},
   "outputs": [
    {
     "name": "stdout",
     "output_type": "stream",
     "text": [
      "['./training_results/sf10_rand_test_logging_rand.txt']\n",
      "6\n",
      "6\n",
      "all:\n",
      " \n",
      "num unique params 3 total runs 3 valid runs 2\n",
      " \n",
      "num unique params 3 total runs 3 valid runs 2\n"
     ]
    }
   ],
   "source": [
    "\n",
    "direc = '../../../../nobackup1/hoped/spark-autotuner/training_data/training_results'\n",
    "training_fnames = [f'{direc}/{x}'for x in os.listdir(direc) if 'txt' in x and 'rand' in x]\n",
    "direc = './training_results'\n",
    "training_fnames += [f'{direc}/{x}'for x in os.listdir(direc) if 'txt' in x and 'rand' in x]\n",
    "len(training_fnames)\n",
    "print(training_fnames)\n",
    "\n",
    "fname_numdata = {'all':0}\n",
    "\n",
    "for fname in training_fnames:\n",
    "    with open(fname,'r') as file:\n",
    "        try:\n",
    "            file_data = file.readlines()\n",
    "            fname_numdata[fname] = len(file_data)\n",
    "            fname_numdata['all'] += len(file_data)\n",
    "        except:\n",
    "            print(\"error loading\", fname)\n",
    "print(sum(fname_numdata.values()))\n",
    "\n",
    "# how many different param combos have we tried?\n",
    "fname_num_params = {'all':set()}\n",
    "fname_valid = {'all':0}\n",
    "for fname in training_fnames:\n",
    "    with open(fname,'r') as file:\n",
    "        try:\n",
    "            file_data = file.readlines()\n",
    "        except:\n",
    "            print(\"error loading\", fname)\n",
    "            continue\n",
    "        fname_num_params[fname] = set()\n",
    "        fname_valid[fname] = 0\n",
    "        for result_dict in file_data:\n",
    "            result_dict = eval(result_dict)\n",
    "            fname_num_params[fname].add(get_spark_params(result_dict))\n",
    "            fname_valid[fname] += 1 if result_dict['runtimes'] else 0\n",
    "            fname_num_params['all'].add(get_spark_params(result_dict))\n",
    "            fname_valid['all'] += 1 if result_dict['runtimes'] else 0\n",
    "print(sum([len(x) for x in fname_num_params.values()]))\n",
    "for fname, vals in fname_num_params.items():\n",
    "    if fname == 'all':\n",
    "        print(\"all:\")\n",
    "\n",
    "    print(fname[100:160], '\\nnum unique params', len(vals), 'total runs',fname_numdata[fname] , 'valid runs', fname_valid[fname])"
   ]
  },
  {
   "cell_type": "code",
   "execution_count": null,
   "id": "4ba8b527-a285-4ccb-b0ac-56d175ed3505",
   "metadata": {},
   "outputs": [],
   "source": []
  },
  {
   "cell_type": "code",
   "execution_count": null,
   "id": "0119ea4c-5d75-4363-b76c-9c3cbf084c09",
   "metadata": {},
   "outputs": [],
   "source": []
  }
 ],
 "metadata": {
  "kernelspec": {
   "display_name": "Python 3 (ipykernel)",
   "language": "python",
   "name": "python3"
  },
  "language_info": {
   "codemirror_mode": {
    "name": "ipython",
    "version": 3
   },
   "file_extension": ".py",
   "mimetype": "text/x-python",
   "name": "python",
   "nbconvert_exporter": "python",
   "pygments_lexer": "ipython3",
   "version": "3.9.7"
  }
 },
 "nbformat": 4,
 "nbformat_minor": 5
}
