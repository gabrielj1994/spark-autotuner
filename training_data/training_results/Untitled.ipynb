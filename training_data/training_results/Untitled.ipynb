{
 "cells": [
  {
   "cell_type": "code",
   "execution_count": 16,
   "id": "983dd74f-f5ae-4f85-848e-24fbb9a9426f",
   "metadata": {},
   "outputs": [
    {
     "data": {
      "text/plain": [
       "{'platform': 'Linux',\n",
       " 'platform-release': '3.10.0-1062.el7.x86_64',\n",
       " 'platform-version': '#1 SMP Wed Aug 7 18:08:02 UTC 2019',\n",
       " 'architecture': 'x86_64',\n",
       " 'hostname': 'node080',\n",
       " 'ip-address': '10.1.0.80',\n",
       " 'mac-address': 'b8:ca:3a:eb:8d:b5',\n",
       " 'processor': 'x86_64',\n",
       " 'ram': '63 GB',\n",
       " 'virtual_memory': <module 'psutil' from '/home/software/anaconda3/2021.11/lib/python3.9/site-packages/psutil/__init__.py'>,\n",
       " 'total_storage': '36864 GB',\n",
       " 'free_storage': '7685 GB'}"
      ]
     },
     "execution_count": 16,
     "metadata": {},
     "output_type": "execute_result"
    }
   ],
   "source": [
    "\n",
    "import platform,socket,re,uuid,json,psutil,logging\n",
    "\n",
    "def getSystemInfo():\n",
    "    info={}\n",
    "    try:\n",
    "        info['platform']=platform.system()\n",
    "        info['platform-release']=platform.release()\n",
    "        info['platform-version']=platform.version()\n",
    "        info['architecture']=platform.machine()\n",
    "        info['hostname']=socket.gethostname()\n",
    "        info['ip-address']=socket.gethostbyname(socket.gethostname())\n",
    "        info['mac-address']=':'.join(re.findall('..', '%012x' % uuid.getnode()))\n",
    "        info['processor']=platform.processor()\n",
    "        info['ram']=str(round(psutil.virtual_memory().total / (1024.0 **3)))+\" GB\"\n",
    "        info['total_storage']=str(round(psutil.disk_usage('.').total / (1024.0 **3)))+\" GB\"\n",
    "        info['free_storage']=str(round(psutil.disk_usage('.').free / (1024.0 **3)))+\" GB\"\n",
    "    except Exception as e:\n",
    "        logging.exception(e)\n",
    "    return{}\n",
    "getSystemInfo()"
   ]
  },
  {
   "cell_type": "code",
   "execution_count": 7,
   "id": "cc0ac601-2f00-43f2-915b-6a320c2a28aa",
   "metadata": {},
   "outputs": [
    {
     "name": "stdout",
     "output_type": "stream",
     "text": [
      "svmem(total=67333791744, available=54784442368, percent=18.6, used=11353329664, free=20577869824, active=13137256448, inactive=31472590848, buffers=101793792, cached=35300798464, shared=11341824, slab=752746496)\n",
      "67333791744\n",
      "54784442368\n",
      "18.6\n",
      "11353329664\n",
      "20577869824\n",
      "13137256448\n",
      "31472590848\n",
      "101793792\n",
      "35300798464\n",
      "11341824\n",
      "752746496\n"
     ]
    }
   ],
   "source": [
    "import psutil\n",
    "print(psutil.virtual_memory())\n",
    "for x in psutil.virtual_memory():\n",
    "    print(x)"
   ]
  },
  {
   "cell_type": "code",
   "execution_count": 8,
   "id": "42e28935-597b-4b30-abb5-99ba4511376f",
   "metadata": {},
   "outputs": [
    {
     "ename": "NameError",
     "evalue": "name '__file__' is not defined",
     "output_type": "error",
     "traceback": [
      "\u001b[0;31m---------------------------------------------------------------------------\u001b[0m",
      "\u001b[0;31mNameError\u001b[0m                                 Traceback (most recent call last)",
      "\u001b[0;32m/tmp/ipykernel_38842/2391604005.py\u001b[0m in \u001b[0;36m<module>\u001b[0;34m\u001b[0m\n\u001b[1;32m      1\u001b[0m \u001b[0;32mimport\u001b[0m \u001b[0mshutil\u001b[0m\u001b[0;34m\u001b[0m\u001b[0;34m\u001b[0m\u001b[0m\n\u001b[1;32m      2\u001b[0m \u001b[0;34m\u001b[0m\u001b[0m\n\u001b[0;32m----> 3\u001b[0;31m \u001b[0mtotal\u001b[0m\u001b[0;34m,\u001b[0m \u001b[0mused\u001b[0m\u001b[0;34m,\u001b[0m \u001b[0mfree\u001b[0m \u001b[0;34m=\u001b[0m \u001b[0mshutil\u001b[0m\u001b[0;34m.\u001b[0m\u001b[0mdisk_usage\u001b[0m\u001b[0;34m(\u001b[0m\u001b[0m__file__\u001b[0m\u001b[0;34m)\u001b[0m\u001b[0;34m\u001b[0m\u001b[0;34m\u001b[0m\u001b[0m\n\u001b[0m\u001b[1;32m      4\u001b[0m \u001b[0mprint\u001b[0m\u001b[0;34m(\u001b[0m\u001b[0mtotal\u001b[0m\u001b[0;34m,\u001b[0m \u001b[0mused\u001b[0m\u001b[0;34m,\u001b[0m \u001b[0mfree\u001b[0m\u001b[0;34m)\u001b[0m\u001b[0;34m\u001b[0m\u001b[0;34m\u001b[0m\u001b[0m\n",
      "\u001b[0;31mNameError\u001b[0m: name '__file__' is not defined"
     ]
    }
   ],
   "source": [
    "import shutil\n",
    "\n",
    "total, used, free = shutil.disk_usage(__file__)\n",
    "print(total, used, free)"
   ]
  },
  {
   "cell_type": "code",
   "execution_count": 10,
   "id": "0227edf4-70ef-430d-b1d8-76c201f03d5b",
   "metadata": {},
   "outputs": [
    {
     "data": {
      "text/plain": [
       "sdiskusage(total=39582418599936, used=31322910261248, free=8259508338688, percent=79.1)"
      ]
     },
     "execution_count": 10,
     "metadata": {},
     "output_type": "execute_result"
    }
   ],
   "source": [
    "psutil.disk_usage('.')"
   ]
  },
  {
   "cell_type": "code",
   "execution_count": 15,
   "id": "8d629502-4991-4f88-ab80-502a9e1f6a24",
   "metadata": {},
   "outputs": [
    {
     "data": {
      "text/plain": [
       "{'storage': '36 GB'}"
      ]
     },
     "execution_count": 15,
     "metadata": {},
     "output_type": "execute_result"
    }
   ],
   "source": [
    "info={}\n",
    "info['total_storage']=str(round(psutil.disk_usage('.').total / (1024.0 **3)))+\" GB\"\n",
    "info"
   ]
  },
  {
   "cell_type": "code",
   "execution_count": null,
   "id": "f1356dc2-1635-4ade-a3d9-da64d6d024f7",
   "metadata": {},
   "outputs": [],
   "source": []
  },
  {
   "cell_type": "code",
   "execution_count": null,
   "id": "7ec03dd3-c436-4a1e-87f4-33f5bb7e94d9",
   "metadata": {},
   "outputs": [],
   "source": []
  }
 ],
 "metadata": {
  "kernelspec": {
   "display_name": "Python 3 (ipykernel)",
   "language": "python",
   "name": "python3"
  },
  "language_info": {
   "codemirror_mode": {
    "name": "ipython",
    "version": 3
   },
   "file_extension": ".py",
   "mimetype": "text/x-python",
   "name": "python",
   "nbconvert_exporter": "python",
   "pygments_lexer": "ipython3",
   "version": "3.9.7"
  }
 },
 "nbformat": 4,
 "nbformat_minor": 5
}
